{
 "cells": [
  {
   "cell_type": "code",
   "execution_count": 1,
   "metadata": {},
   "outputs": [],
   "source": [
    "import pandas as pd\n",
    "fips = pd.read_csv('/Users/kdugg/Downloads/ZIP-COUNTY-FIPS_2010-03.csv')"
   ]
  },
  {
   "cell_type": "code",
   "execution_count": 2,
   "metadata": {},
   "outputs": [
    {
     "name": "stderr",
     "output_type": "stream",
     "text": [
      "C:\\Users\\kdugg\\anaconda3\\lib\\site-packages\\IPython\\core\\interactiveshell.py:3063: DtypeWarning: Columns (2,8,9,10,11,12,13,14,15,16,17,18,19,20,21,22,23,24,25,26,27,28,29,30,31,32,33,34,35,36,37,38,39,40,41,42,43,44,45,46,47,48,49,50,51,52,53,54,55,56,57) have mixed types.Specify dtype option on import or set low_memory=False.\n",
      "  interactivity=interactivity, compiler=compiler, result=result)\n"
     ]
    }
   ],
   "source": [
    "df = pd.read_csv('/Users/kdugg/Documents/CAINC30__ALL_AREAS_1969_2018.csv', encoding='latin1')\\\n",
    ".drop(99140)\\\n",
    ".drop(99139)\\\n",
    ".drop(99138)\n",
    "other_cols = df['Description'][:31]"
   ]
  },
  {
   "cell_type": "code",
   "execution_count": 3,
   "metadata": {},
   "outputs": [],
   "source": [
    "df = df[df['GeoName'].str.contains(', ')].reset_index().drop(\"index\", axis = 1)\n",
    "df = df.drop(\"Region\", axis = 1)\\\n",
    ".drop('IndustryClassification', axis = 1)\\\n",
    ".drop('TableName', axis = 1)\\\n",
    ".drop('GeoName', axis = 1)\\\n",
    ".drop('Unit', axis = 1)\\\n",
    ".drop('Description', axis = 1)\\"
   ]
  },
  {
   "cell_type": "code",
   "execution_count": 4,
   "metadata": {},
   "outputs": [],
   "source": [
    "fips = fips.drop('COUNTYNAME', axis = 1)\\\n",
    ".drop('STATE', axis = 1)\\\n",
    ".drop('CLASSFP', axis = 1)\\"
   ]
  },
  {
   "cell_type": "code",
   "execution_count": 5,
   "metadata": {},
   "outputs": [],
   "source": [
    "fips['STCOUNTYFP'] = fips['STCOUNTYFP'].apply(lambda fip: str(fip).zfill(5))\n",
    "df['GeoFIPS'] = df['GeoFIPS'].apply(lambda fip: fip[1:-1])\n",
    "df['GeoFIPS'] = df['GeoFIPS'].apply(lambda fip: fip[1:-1])"
   ]
  },
  {
   "cell_type": "code",
   "execution_count": 6,
   "metadata": {},
   "outputs": [],
   "source": [
    "df = df.merge(fips, left_on = 'GeoFIPS', right_on = 'STCOUNTYFP')\\\n",
    ".drop('STCOUNTYFP', axis = 1)\\\n",
    ".drop('GeoFIPS', axis = 1)"
   ]
  },
  {
   "cell_type": "code",
   "execution_count": 7,
   "metadata": {},
   "outputs": [],
   "source": [
    "df['ZIP_CODE_SHORT'] = df['ZIP'].apply(lambda zi: str(zi).zfill(5)[:3])\n",
    "df = df.drop('ZIP', axis = 1)"
   ]
  },
  {
   "cell_type": "code",
   "execution_count": 8,
   "metadata": {},
   "outputs": [],
   "source": [
    "import numpy as np\n",
    "for i in range(1969, 2019):\n",
    "    x = str(i)\n",
    "    df[x] = df[x].apply(lambda x: 0 if x == '(NA)' else x)\n",
    "    df[x] = df[x].astype('int64')\n",
    "    df[x] = df[x].apply(lambda x: np.nan if x == 0 else x)"
   ]
  },
  {
   "cell_type": "code",
   "execution_count": 9,
   "metadata": {},
   "outputs": [],
   "source": [
    "df = df.groupby(['ZIP_CODE_SHORT', 'LineCode']).mean()\n",
    "df = df.reset_index()"
   ]
  },
  {
   "cell_type": "code",
   "execution_count": 10,
   "metadata": {},
   "outputs": [],
   "source": [
    "df = pd.melt(df, id_vars=['ZIP_CODE_SHORT', 'LineCode'], value_vars=[str(i) for i in range(1969, 2018)])"
   ]
  },
  {
   "cell_type": "code",
   "execution_count": 11,
   "metadata": {},
   "outputs": [],
   "source": [
    "vals = df['value'].to_numpy()\n",
    "index = pd.MultiIndex.from_frame(df.drop('value', axis = 1))\n",
    "multi = pd.DataFrame(vals, index=index, columns=['value'])"
   ]
  },
  {
   "cell_type": "code",
   "execution_count": 12,
   "metadata": {},
   "outputs": [],
   "source": [
    "unstacked = multi.unstack(1).reset_index()"
   ]
  },
  {
   "cell_type": "code",
   "execution_count": 13,
   "metadata": {},
   "outputs": [],
   "source": [
    "cols = ['ZIP_CODE_SHORT', 'DATE']\n",
    "for x in other_cols:\n",
    "    l = x.strip().split(' ')\n",
    "    thel = []\n",
    "    for y in l:\n",
    "        if '(' in y:\n",
    "            break\n",
    "        if '/' in y:\n",
    "            break\n",
    "        y = y.replace(',', '').replace('\\'', '')\n",
    "        thel.append(y.upper())\n",
    "    cols.append('_'.join(thel))"
   ]
  },
  {
   "cell_type": "code",
   "execution_count": 14,
   "metadata": {},
   "outputs": [],
   "source": [
    "unstacked.columns = cols"
   ]
  },
  {
   "cell_type": "code",
   "execution_count": 15,
   "metadata": {},
   "outputs": [],
   "source": [
    "unstacked = unstacked[unstacked['DATE'].str.contains('20')].reset_index().drop('index', axis = 1)\n",
    "unstacked = pd.concat([unstacked]*12, ignore_index=True).sort_values(['ZIP_CODE_SHORT', 'DATE']).reset_index().drop('index', axis = 1)\n",
    "months = [str(i).zfill(2) for i in range(1,13)]\n",
    "l = []\n",
    "for i,x in enumerate(unstacked['DATE']):\n",
    "    l.append(\"{}/01/{}\".format(months[(i)%12], x))\n",
    "unstacked['DATE'] = pd.Series(l)"
   ]
  },
  {
   "cell_type": "code",
   "execution_count": 17,
   "metadata": {},
   "outputs": [],
   "source": [
    "out = unstacked[['ZIP_CODE_SHORT','DATE','PERSONAL_INCOME','POPULATION']]\n",
    "out.to_parquet('population_income.parquet')"
   ]
  },
  {
   "cell_type": "code",
   "execution_count": null,
   "metadata": {},
   "outputs": [],
   "source": []
  }
 ],
 "metadata": {
  "kernelspec": {
   "display_name": "Python 3",
   "language": "python",
   "name": "python3"
  },
  "language_info": {
   "codemirror_mode": {
    "name": "ipython",
    "version": 3
   },
   "file_extension": ".py",
   "mimetype": "text/x-python",
   "name": "python",
   "nbconvert_exporter": "python",
   "pygments_lexer": "ipython3",
   "version": "3.7.6"
  }
 },
 "nbformat": 4,
 "nbformat_minor": 4
}
