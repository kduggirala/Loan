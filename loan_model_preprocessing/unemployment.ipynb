{
 "cells": [
  {
   "cell_type": "code",
   "execution_count": 1,
   "metadata": {},
   "outputs": [],
   "source": [
    "import pandas as pd\n",
    "import numpy as np"
   ]
  },
  {
   "cell_type": "code",
   "execution_count": 2,
   "metadata": {},
   "outputs": [
    {
     "name": "stderr",
     "output_type": "stream",
     "text": [
      "C:\\Users\\kdugg\\anaconda3\\lib\\site-packages\\IPython\\core\\interactiveshell.py:3063: DtypeWarning: Columns (3) have mixed types.Specify dtype option on import or set low_memory=False.\n",
      "  interactivity=interactivity, compiler=compiler, result=result)\n"
     ]
    }
   ],
   "source": [
    "df = pd.read_csv('/Users/kdugg/Downloads/msa_unemploy.txt', delimiter = '\\t')"
   ]
  },
  {
   "cell_type": "code",
   "execution_count": 3,
   "metadata": {},
   "outputs": [],
   "source": [
    "df.columns = [x.strip() for x in df.columns]"
   ]
  },
  {
   "cell_type": "code",
   "execution_count": 4,
   "metadata": {},
   "outputs": [],
   "source": [
    "df = df.query('year >= 2000 and year<2020')"
   ]
  },
  {
   "cell_type": "code",
   "execution_count": 5,
   "metadata": {},
   "outputs": [],
   "source": [
    "df = df.drop('footnote_codes', axis = 1)"
   ]
  },
  {
   "cell_type": "code",
   "execution_count": 6,
   "metadata": {},
   "outputs": [],
   "source": [
    "df['key'] = df['series_id'].apply(lambda x:x[19])"
   ]
  },
  {
   "cell_type": "code",
   "execution_count": 7,
   "metadata": {},
   "outputs": [],
   "source": [
    "df = df[df['series_id'].str.contains('LAUMT')]\n",
    "df['series_id'] = df['series_id'].apply(lambda x: x[7:12])\n",
    "df = df[~df['series_id'].str.contains('72850')]\n",
    "df = df[~df['series_id'].str.contains('74500')]\n",
    "df = df[~df['series_id'].str.contains('76900')]\n",
    "df = df[~df['series_id'].str.contains('75550')]\n",
    "df = df[~df['series_id'].str.contains('78700')]\n",
    "df = df[~df['series_id'].str.contains('73050')]"
   ]
  },
  {
   "cell_type": "code",
   "execution_count": 8,
   "metadata": {},
   "outputs": [],
   "source": [
    "df = df[df['period']!='M13']"
   ]
  },
  {
   "cell_type": "code",
   "execution_count": 9,
   "metadata": {},
   "outputs": [],
   "source": [
    "df[\"DATE\"] =  df['period'].apply(lambda x: x[1:]) + df['year'].astype(str)"
   ]
  },
  {
   "cell_type": "code",
   "execution_count": 10,
   "metadata": {},
   "outputs": [],
   "source": [
    "df['DATE'] = df['DATE'].apply(lambda x: '{}/01/{}'.format(x[2:], x[0:2]))"
   ]
  },
  {
   "cell_type": "code",
   "execution_count": 11,
   "metadata": {},
   "outputs": [],
   "source": [
    "df = df.drop('period', axis = 1).drop('year', axis = 1)"
   ]
  },
  {
   "cell_type": "code",
   "execution_count": 12,
   "metadata": {},
   "outputs": [],
   "source": [
    "df = df.sort_values(['series_id','DATE', 'key'])"
   ]
  },
  {
   "cell_type": "code",
   "execution_count": 13,
   "metadata": {},
   "outputs": [],
   "source": [
    "val = df['key']\n",
    "thing = df.drop('key', axis = 1)\n",
    "thing = pd.concat((thing, val), axis=1)\n",
    "\n",
    "val = df['value']\n",
    "thing = thing.drop('value', axis = 1)\n",
    "thing = pd.concat((thing, val), axis=1)\n",
    "df = thing"
   ]
  },
  {
   "cell_type": "code",
   "execution_count": 14,
   "metadata": {},
   "outputs": [],
   "source": [
    "nectamap = {\n",
    "    '70750' : '12620',\n",
    "    '70900' : '12700',\n",
    "    '71650' : '14460', \n",
    "    '71950' : '14860', \n",
    "    '72400' : '15540',\n",
    "    '73450' : '25540', \n",
    "    '74650' : '30340',\n",
    "    '74950' : '31700',\n",
    "    '75700' : '35300',\n",
    "    '76450' : '35980',\n",
    "    '76600' : '38340',\n",
    "    '76750' : '38860',\n",
    "    '77200' : '39300',\n",
    "    '78100' : '44140',\n",
    "    '79600' : '49340'\n",
    "}\n",
    "for x in df['series_id']:\n",
    "    if x[0] != '7':\n",
    "        nectamap[x] = x"
   ]
  },
  {
   "cell_type": "code",
   "execution_count": 15,
   "metadata": {},
   "outputs": [],
   "source": [
    "df['series_id'] = df['series_id'].map(nectamap)"
   ]
  },
  {
   "cell_type": "code",
   "execution_count": 16,
   "metadata": {},
   "outputs": [],
   "source": [
    "vals = df['value'].to_numpy().astype('float')\n",
    "index = pd.MultiIndex.from_frame(df.drop('value', axis = 1))\n",
    "multi = pd.DataFrame(vals, index=index, columns=['value'])"
   ]
  },
  {
   "cell_type": "code",
   "execution_count": 17,
   "metadata": {},
   "outputs": [
    {
     "data": {
      "text/html": [
       "<div>\n",
       "<style scoped>\n",
       "    .dataframe tbody tr th:only-of-type {\n",
       "        vertical-align: middle;\n",
       "    }\n",
       "\n",
       "    .dataframe tbody tr th {\n",
       "        vertical-align: top;\n",
       "    }\n",
       "\n",
       "    .dataframe thead th {\n",
       "        text-align: right;\n",
       "    }\n",
       "</style>\n",
       "<table border=\"1\" class=\"dataframe\">\n",
       "  <thead>\n",
       "    <tr style=\"text-align: right;\">\n",
       "      <th></th>\n",
       "      <th></th>\n",
       "      <th></th>\n",
       "      <th>value</th>\n",
       "    </tr>\n",
       "    <tr>\n",
       "      <th>series_id</th>\n",
       "      <th>DATE</th>\n",
       "      <th>key</th>\n",
       "      <th></th>\n",
       "    </tr>\n",
       "  </thead>\n",
       "  <tbody>\n",
       "    <tr>\n",
       "      <th rowspan=\"5\" valign=\"top\">10180</th>\n",
       "      <th rowspan=\"4\" valign=\"top\">2000/01/01</th>\n",
       "      <th>3</th>\n",
       "      <td>4.5</td>\n",
       "    </tr>\n",
       "    <tr>\n",
       "      <th>4</th>\n",
       "      <td>3410.0</td>\n",
       "    </tr>\n",
       "    <tr>\n",
       "      <th>5</th>\n",
       "      <td>72599.0</td>\n",
       "    </tr>\n",
       "    <tr>\n",
       "      <th>6</th>\n",
       "      <td>76009.0</td>\n",
       "    </tr>\n",
       "    <tr>\n",
       "      <th>2000/01/02</th>\n",
       "      <th>3</th>\n",
       "      <td>4.5</td>\n",
       "    </tr>\n",
       "    <tr>\n",
       "      <th>...</th>\n",
       "      <th>...</th>\n",
       "      <th>...</th>\n",
       "      <td>...</td>\n",
       "    </tr>\n",
       "    <tr>\n",
       "      <th rowspan=\"5\" valign=\"top\">49340</th>\n",
       "      <th>2019/01/11</th>\n",
       "      <th>6</th>\n",
       "      <td>365861.0</td>\n",
       "    </tr>\n",
       "    <tr>\n",
       "      <th rowspan=\"4\" valign=\"top\">2019/01/12</th>\n",
       "      <th>3</th>\n",
       "      <td>2.6</td>\n",
       "    </tr>\n",
       "    <tr>\n",
       "      <th>4</th>\n",
       "      <td>9640.0</td>\n",
       "    </tr>\n",
       "    <tr>\n",
       "      <th>5</th>\n",
       "      <td>356959.0</td>\n",
       "    </tr>\n",
       "    <tr>\n",
       "      <th>6</th>\n",
       "      <td>366599.0</td>\n",
       "    </tr>\n",
       "  </tbody>\n",
       "</table>\n",
       "<p>374400 rows × 1 columns</p>\n",
       "</div>"
      ],
      "text/plain": [
       "                             value\n",
       "series_id DATE       key          \n",
       "10180     2000/01/01 3         4.5\n",
       "                     4      3410.0\n",
       "                     5     72599.0\n",
       "                     6     76009.0\n",
       "          2000/01/02 3         4.5\n",
       "...                            ...\n",
       "49340     2019/01/11 6    365861.0\n",
       "          2019/01/12 3         2.6\n",
       "                     4      9640.0\n",
       "                     5    356959.0\n",
       "                     6    366599.0\n",
       "\n",
       "[374400 rows x 1 columns]"
      ]
     },
     "execution_count": 17,
     "metadata": {},
     "output_type": "execute_result"
    }
   ],
   "source": [
    "multi"
   ]
  },
  {
   "cell_type": "code",
   "execution_count": 17,
   "metadata": {
    "scrolled": true
   },
   "outputs": [],
   "source": [
    "unstacked = multi.unstack().reset_index()\n",
    "unstacked.columns =  ['METROPOLITAN_STATISTICAL_AREA', 'DATE', 'UNEMPLOYMENT_RATE', 'UNEMPLOYMENT', 'EMPLOYMENT', 'LABOR_FORCE']\n",
    "unstacked['DATE'] = unstacked['DATE'].apply(lambda x: '{}/01/{}'.format(x[-2:], x[0:4]))"
   ]
  },
  {
   "cell_type": "code",
   "execution_count": 18,
   "metadata": {},
   "outputs": [],
   "source": [
    "unstacked.to_parquet('msa_unemploy.parquet')"
   ]
  },
  {
   "cell_type": "code",
   "execution_count": 23,
   "metadata": {},
   "outputs": [
    {
     "name": "stderr",
     "output_type": "stream",
     "text": [
      "C:\\Users\\kdugg\\anaconda3\\lib\\site-packages\\ipykernel_launcher.py:4: SettingWithCopyWarning: \n",
      "A value is trying to be set on a copy of a slice from a DataFrame.\n",
      "Try using .loc[row_indexer,col_indexer] = value instead\n",
      "\n",
      "See the caveats in the documentation: https://pandas.pydata.org/pandas-docs/stable/user_guide/indexing.html#returning-a-view-versus-a-copy\n",
      "  after removing the cwd from sys.path.\n"
     ]
    },
    {
     "data": {
      "image/png": "[encoded data removed]",
      "text/plain": [
       "<Figure size 432x288 with 1 Axes>"
      ]
     },
     "metadata": {
      "needs_background": "light"
     },
     "output_type": "display_data"
    }
   ],
   "source": [
    "import matplotlib.pyplot as plt\n",
    "\n",
    "one = unstacked[unstacked['METROPOLITAN_STATISTICAL_AREA']=='11260']\n",
    "one['DATE'] = one['DATE'].astype('datetime64')\n",
    "plt.plot(one['DATE'].to_numpy(), one['UNEMPLOYMENT_RATE'].to_numpy())\n",
    "plt.show()"
   ]
  }
 ],
 "metadata": {
  "kernelspec": {
   "display_name": "Python 3 (ipykernel)",
   "language": "python",
   "name": "python3"
  },
  "language_info": {
   "codemirror_mode": {
    "name": "ipython",
    "version": 3
   },
   "file_extension": ".py",
   "mimetype": "text/x-python",
   "name": "python",
   "nbconvert_exporter": "python",
   "pygments_lexer": "ipython3",
   "version": "3.9.12"
  }
 },
 "nbformat": 4,
 "nbformat_minor": 4
}
