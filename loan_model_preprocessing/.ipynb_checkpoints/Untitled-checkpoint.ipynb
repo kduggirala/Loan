{
 "cells": [
  {
   "cell_type": "code",
   "execution_count": 19,
   "metadata": {},
   "outputs": [
    {
     "name": "stdout",
     "output_type": "stream",
     "text": [
      "3\n",
      "2\n",
      "3 2 1\n",
      "2\n",
      "3 1\n",
      "1\n",
      "1 3 4 2\n",
      "3\n",
      "1 4 2\n",
      "7\n",
      "2 5 7 1 3 4 6\n",
      "4\n",
      "2 7 1 6\n"
     ]
    }
   ],
   "source": [
    "def fix(l):\n",
    "    include = [0]\n",
    "    for i in range(1, len(l) - 1):\n",
    "        if (l[i] - l[i-1])*(l[i+1]-l[i]) < 0:\n",
    "            include.append(i)\n",
    "    include.append(len(l) - 1)\n",
    "    return [l[x] for x in include]\n",
    "\n",
    "t = int(input())\n",
    "for i in range(t):\n",
    "    input()\n",
    "    l = [int(x) for x in input().strip().split(' ')]\n",
    "    f = fix(l)\n",
    "    print(len(f))\n",
    "    print(' '.join([str(x) for x in f]))"
   ]
  },
  {
   "cell_type": "code",
   "execution_count": null,
   "metadata": {},
   "outputs": [],
   "source": [
    "['Product Type'\n",
    "'Zero Balance Code'\n",
    "'Borrower Credit Score'\n",
    "'Current Interest Rate'\n",
    "'First Time Home Borrower Indicator'\n",
    "'Loan age'\n",
    "'Loan indentifier'\n",
    "'Loan purpose'\n",
    "'Metropolitan Statistical Area'\n",
    "'Monthly Reporting Period'\n",
    "'Number of units'\n",
    "'Occupancy Type'\n",
    "'Original debt-to-income ratio'\n",
    "'Original loan term'\n",
    "'Zip Code Short']"
   ]
  }
 ],
 "metadata": {
  "kernelspec": {
   "display_name": "Python 3",
   "language": "python",
   "name": "python3"
  },
  "language_info": {
   "codemirror_mode": {
    "name": "ipython",
    "version": 3
   },
   "file_extension": ".py",
   "mimetype": "text/x-python",
   "name": "python",
   "nbconvert_exporter": "python",
   "pygments_lexer": "ipython3",
   "version": "3.7.6"
  }
 },
 "nbformat": 4,
 "nbformat_minor": 4
}
